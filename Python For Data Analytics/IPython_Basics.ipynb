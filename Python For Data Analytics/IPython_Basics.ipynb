{
 "cells": [
  {
   "cell_type": "markdown",
   "id": "a6baa3cd-cd84-4427-aaa4-ed14fe0052db",
   "metadata": {},
   "source": [
    "Tab Completion"
   ]
  },
  {
   "cell_type": "code",
   "execution_count": null,
   "id": "6a8589fe-f5dc-4af8-b07f-2128825fae50",
   "metadata": {},
   "outputs": [],
   "source": [
    "#In Jupyter Notebook, we can easily complete a code using <<Tab>> key\n",
    "\n",
    "'''For example if I type two variables an_apple and an_orange with different values. The next line upon typing an followed by a tab key, you will notice\n",
    "that the option of an_apple,an_orange or any will display making it easier to write code'''\n",
    "\n",
    "\n",
    "an_apple = 5\n",
    "an_orange = 10\n",
    "print(an_apple+an_orange) #Gave option an_apple, an_orange and any\n",
    "\n",
    "'''Similarily for list operations, pressing tab after .(period) will display the different methods applicable to the list\n",
    "    Note: This is also applicable to tuples, dictionaries etc.'''\n",
    "\n",
    "sample = [1,2,3] #List example\n",
    "sample.append(4) #Gave option of append,pop,clear etc.\n",
    "print(sample)\n",
    "\n",
    "dict = {'Name': ['Ashton','Atul','Abhishek'], 'Place': ['Mangalore','Gujarat','Mumbai']}\n",
    "for key,value in dict.items():\n",
    "    print(f'{key}:{value}',sep = ' ')\n",
    "\n",
    "\n",
    "'''We can implement the same logic for modules as well, for example lets take a numpy module'''\n",
    "import numpy as np\n",
    "np.hstack(np.arange(6).reshape(3,2))\n",
    "\n"
   ]
  },
  {
   "cell_type": "markdown",
   "id": "8ae1dc55-81b5-4a3c-91bb-3b77e9e48571",
   "metadata": {},
   "source": [
    "2. Introspection"
   ]
  },
  {
   "cell_type": "code",
   "execution_count": 33,
   "id": "c0bf0670-512f-4a27-8a3d-08fc80998fcb",
   "metadata": {},
   "outputs": [
    {
     "data": {
      "text/plain": [
       "\u001b[1;31mType:\u001b[0m        int\n",
       "\u001b[1;31mString form:\u001b[0m 5\n",
       "\u001b[1;31mDocstring:\u001b[0m  \n",
       "int([x]) -> integer\n",
       "int(x, base=10) -> integer\n",
       "\n",
       "Convert a number or string to an integer, or return 0 if no arguments\n",
       "are given.  If x is a number, return x.__int__().  For floating point\n",
       "numbers, this truncates towards zero.\n",
       "\n",
       "If x is not a number or if base is given, then x must be a string,\n",
       "bytes, or bytearray instance representing an integer literal in the\n",
       "given base.  The literal can be preceded by '+' or '-' and be surrounded\n",
       "by whitespace.  The base defaults to 10.  Valid bases are 0 and 2-36.\n",
       "Base 0 means to interpret the base from the string as an integer literal.\n",
       ">>> int('0b100', base=0)\n",
       "4"
      ]
     },
     "metadata": {},
     "output_type": "display_data"
    }
   ],
   "source": [
    "#Adding a ? after any variable or object etc will dipslay the information of tha particular entity \n",
    "\n",
    "a?"
   ]
  },
  {
   "cell_type": "code",
   "execution_count": null,
   "id": "7a6a00ee-cd5a-42c9-a5d6-d9cf438690c0",
   "metadata": {},
   "outputs": [],
   "source": []
  }
 ],
 "metadata": {
  "kernelspec": {
   "display_name": "Python 3 (ipykernel)",
   "language": "python",
   "name": "python3"
  },
  "language_info": {
   "codemirror_mode": {
    "name": "ipython",
    "version": 3
   },
   "file_extension": ".py",
   "mimetype": "text/x-python",
   "name": "python",
   "nbconvert_exporter": "python",
   "pygments_lexer": "ipython3",
   "version": "3.11.0"
  }
 },
 "nbformat": 4,
 "nbformat_minor": 5
}
