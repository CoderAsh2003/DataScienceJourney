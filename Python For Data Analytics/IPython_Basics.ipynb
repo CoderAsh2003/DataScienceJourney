{
 "cells": [
  {
   "cell_type": "markdown",
   "id": "a6baa3cd-cd84-4427-aaa4-ed14fe0052db",
   "metadata": {},
   "source": [
    "Tab Completion"
   ]
  },
  {
   "cell_type": "code",
   "execution_count": null,
   "id": "6a8589fe-f5dc-4af8-b07f-2128825fae50",
   "metadata": {},
   "outputs": [],
   "source": [
    "#In Jupyter Notebook, we can easily complete a code using <<Tab>> key\n",
    "\n",
    "'''For example if I type two variables an_apple and an_orange with different values. The next line upon typing an followed by a tab key, you will notice\n",
    "that the option of an_apple,an_orange or any will display making it easier to write code'''\n",
    "\n",
    "\n",
    "an_apple = 5\n",
    "an_orange = 10\n",
    "print(an_apple+an_orange) #Gave option an_apple, an_orange and any\n",
    "\n",
    "'''Similarily for list operations, pressing tab after .(period) will display the different methods applicable to the list\n",
    "    Note: This is also applicable to tuples, dictionaries etc.'''\n",
    "\n",
    "sample = [1,2,3] #List example\n",
    "sample.append(4) #Gave option of append,pop,clear etc.\n",
    "print(sample)\n",
    "\n",
    "dict = {'Name': ['Ashton','Atul','Abhishek'], 'Place': ['Mangalore','Gujarat','Mumbai']}\n",
    "for key,value in dict.items():\n",
    "    print(f'{key}:{value}',sep = ' ')\n",
    "\n",
    "\n",
    "'''We can implement the same logic for modules as well, for example lets take a numpy module'''\n",
    "import numpy as np\n",
    "np.hstack(np.arange(6).reshape(3,2))\n",
    "\n"
   ]
  },
  {
   "cell_type": "markdown",
   "id": "8ae1dc55-81b5-4a3c-91bb-3b77e9e48571",
   "metadata": {},
   "source": [
    "2. Introspection"
   ]
  },
  {
   "cell_type": "code",
   "execution_count": 34,
   "id": "c0bf0670-512f-4a27-8a3d-08fc80998fcb",
   "metadata": {},
   "outputs": [
    {
     "data": {
      "text/plain": [
       "\u001b[1;31mType:\u001b[0m        dict\n",
       "\u001b[1;31mString form:\u001b[0m {'Name': ['Ashton', 'Atul', 'Abhishek'], 'Place': ['Mangalore', 'Gujarat', 'Mumbai']}\n",
       "\u001b[1;31mLength:\u001b[0m      2\n",
       "\u001b[1;31mDocstring:\u001b[0m  \n",
       "dict() -> new empty dictionary\n",
       "dict(mapping) -> new dictionary initialized from a mapping object's\n",
       "    (key, value) pairs\n",
       "dict(iterable) -> new dictionary initialized as if via:\n",
       "    d = {}\n",
       "    for k, v in iterable:\n",
       "        d[k] = v\n",
       "dict(**kwargs) -> new dictionary initialized with the name=value pairs\n",
       "    in the keyword argument list.  For example:  dict(one=1, two=2)"
      ]
     },
     "metadata": {},
     "output_type": "display_data"
    }
   ],
   "source": [
    "#Adding a ? after any variable or object etc will dipslay the information of tha particular entity \n",
    "\n",
    "dict?\n",
    "'''Type:        dict\n",
    "String form: {'Name': ['Ashton', 'Atul', 'Abhishek'], 'Place': ['Mangalore', 'Gujarat', 'Mumbai']}\n",
    "Length:      2\n",
    "Docstring:  \n",
    "dict() -> new empty dictionary\n",
    "dict(mapping) -> new dictionary initialized from a mapping object's\n",
    "    (key, value) pairs\n",
    "dict(iterable) -> new dictionary initialized as if via:\n",
    "    d = {}\n",
    "    for k, v in iterable:\n",
    "        d[k] = v\n",
    "dict(**kwargs) -> new dictionary initialized with the name=value pairs\n",
    "    in the keyword argument list.  For example:  dict(one=1, two=2) '''\n",
    "#This is the info displayed for dict\n",
    "\n",
    "\n",
    "#NOTE: Using ?? will also display the source code, if possible"
   ]
  },
  {
   "cell_type": "markdown",
   "id": "711912ad-0d46-4244-b454-b48f1b1e024d",
   "metadata": {},
   "source": [
    "3. %run% Command"
   ]
  },
  {
   "cell_type": "code",
   "execution_count": 36,
   "id": "d7248c07-3fc1-471b-b3de-eb9acc228587",
   "metadata": {},
   "outputs": [
    {
     "name": "stdout",
     "output_type": "stream",
     "text": [
      "sum = 6\n"
     ]
    }
   ],
   "source": [
    "# This command allows you to run any script as a python program within the enivronment itself\n",
    "# For example if i run another file called hi.py in the same directory,  lets see what happens\n",
    "\n",
    "%run hi.py\n",
    "\n",
    "#Additonaly, Clicking Ctrl + C will enable KeyboardInterrupt causing the code to stop its execution"
   ]
  },
  {
   "cell_type": "markdown",
   "id": "69d00c14-751a-43b8-805a-f98154e91447",
   "metadata": {},
   "source": [
    "4. Magic Pasting"
   ]
  },
  {
   "cell_type": "code",
   "execution_count": 38,
   "id": "3491a3b0-e8f8-41cc-84a5-e842260ac1aa",
   "metadata": {},
   "outputs": [
    {
     "data": {
      "text/plain": [
       "<function print(*args, sep=' ', end='\\n', file=None, flush=False)>"
      ]
     },
     "execution_count": 38,
     "metadata": {},
     "output_type": "execute_result"
    }
   ],
   "source": [
    "#Using %paste will paste any code snippet and avoid the errors\n",
    "\n",
    "x = 5\n",
    "y = 7\n",
    "if x > 5:\n",
    " x += 1\n",
    " y = 8\n",
    "print\n",
    "\n"
   ]
  },
  {
   "cell_type": "code",
   "execution_count": null,
   "id": "68f0c7c1-4467-45eb-bb6c-a0e9eef61b86",
   "metadata": {},
   "outputs": [],
   "source": []
  },
  {
   "cell_type": "code",
   "execution_count": null,
   "id": "980efc4e-c592-4b8c-9dae-c06a1983ca11",
   "metadata": {},
   "outputs": [],
   "source": []
  }
 ],
 "metadata": {
  "kernelspec": {
   "display_name": "Python 3 (ipykernel)",
   "language": "python",
   "name": "python3"
  },
  "language_info": {
   "codemirror_mode": {
    "name": "ipython",
    "version": 3
   },
   "file_extension": ".py",
   "mimetype": "text/x-python",
   "name": "python",
   "nbconvert_exporter": "python",
   "pygments_lexer": "ipython3",
   "version": "3.11.0"
  }
 },
 "nbformat": 4,
 "nbformat_minor": 5
}
