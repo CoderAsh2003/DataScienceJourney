{
 "cells": [
  {
   "cell_type": "markdown",
   "id": "a6baa3cd-cd84-4427-aaa4-ed14fe0052db",
   "metadata": {},
   "source": [
    "Tab Completion"
   ]
  },
  {
   "cell_type": "code",
   "execution_count": null,
   "id": "b22df655-a5e3-4146-831f-36a212195c73",
   "metadata": {},
   "outputs": [],
   "source": [
    "#In Jupyter Notebook, we can easily complete a code using <<Tab>> key\n",
    "\n",
    "'''For example if I type two variables an_apple and an_orange with different values. The next line upon typing an followed by a tab key, you will notice\n",
    "that '''"
   ]
  }
 ],
 "metadata": {
  "kernelspec": {
   "display_name": "Python 3 (ipykernel)",
   "language": "python",
   "name": "python3"
  },
  "language_info": {
   "codemirror_mode": {
    "name": "ipython",
    "version": 3
   },
   "file_extension": ".py",
   "mimetype": "text/x-python",
   "name": "python",
   "nbconvert_exporter": "python",
   "pygments_lexer": "ipython3",
   "version": "3.11.0"
  }
 },
 "nbformat": 4,
 "nbformat_minor": 5
}
