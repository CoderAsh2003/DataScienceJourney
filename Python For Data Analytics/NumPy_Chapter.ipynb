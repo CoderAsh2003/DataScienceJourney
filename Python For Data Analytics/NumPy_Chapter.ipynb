{
 "cells": [
  {
   "cell_type": "code",
   "execution_count": 11,
   "id": "b1ccf819-77fc-44e4-aca5-78db1e55b4ae",
   "metadata": {},
   "outputs": [
    {
     "name": "stdout",
     "output_type": "stream",
     "text": [
      "Numpy array is:[5.   6.   7.   7.75 8.  ] and its dimension is 1\n"
     ]
    }
   ],
   "source": [
    "import numpy as np \n",
    "\n",
    "#Creating an ndarray\n",
    "\n",
    "data = [5,6,7,7.75,8]\n",
    "\n",
    "arr =  np.array(data,dtype = float) #This will convert the list into a simple 1-D numpy array\n",
    "print(f\"Numpy array is:{arr} and its dimension is {arr.ndim}\")\n"
   ]
  },
  {
   "cell_type": "code",
   "execution_count": null,
   "id": "25f39446-4ceb-440b-92fe-d4b3e81870d2",
   "metadata": {},
   "outputs": [],
   "source": []
  },
  {
   "cell_type": "code",
   "execution_count": null,
   "id": "7237d360-16bc-47b1-b4c3-ed31af6ac8c0",
   "metadata": {},
   "outputs": [],
   "source": []
  }
 ],
 "metadata": {
  "kernelspec": {
   "display_name": "Python 3 (ipykernel)",
   "language": "python",
   "name": "python3"
  },
  "language_info": {
   "codemirror_mode": {
    "name": "ipython",
    "version": 3
   },
   "file_extension": ".py",
   "mimetype": "text/x-python",
   "name": "python",
   "nbconvert_exporter": "python",
   "pygments_lexer": "ipython3",
   "version": "3.11.0"
  }
 },
 "nbformat": 4,
 "nbformat_minor": 5
}
