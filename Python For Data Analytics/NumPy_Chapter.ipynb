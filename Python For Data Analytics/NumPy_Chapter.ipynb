{
 "cells": [
  {
   "cell_type": "markdown",
   "id": "cc490b24-d59b-4a15-a7a9-e581e2599df7",
   "metadata": {},
   "source": [
    "1. Functions Used In NumPy"
   ]
  },
  {
   "cell_type": "code",
   "execution_count": 5,
   "id": "b1ccf819-77fc-44e4-aca5-78db1e55b4ae",
   "metadata": {},
   "outputs": [
    {
     "name": "stdout",
     "output_type": "stream",
     "text": [
      "Numpy array is:[5.   6.   7.   7.75 8.  ] and its dimension is 1\n",
      "Original Dimension was (2, 3) But arr2 dimension is reshaped to (3, 2)\n",
      "[[1.+0.j 2.+0.j]\n",
      " [3.+0.j 4.+0.j]\n",
      " [5.+0.j 6.+0.j]]\n"
     ]
    }
   ],
   "source": [
    "import numpy as np \n",
    "\n",
    "#Creating an ndarray\n",
    "\n",
    "data = [5,6,7,7.75,8]\n",
    "\n",
    "arr =  np.array(data,dtype = float) #This will convert the list into a simple 1-D numpy array\n",
    "print(f\"Numpy array is:{arr} and its dimension is {arr.ndim}\") #ndim represents the overall dimension of the array(1-D,2-D,3-D and so on...)\n",
    "\n",
    "#2-D numpy arrays\n",
    "\n",
    "data2 = [[1,2,3],[4,5,6]] #If elements are equal then you can create a 2-D numpy array\n",
    "\n",
    "arr2 = np.array(data2,dtype=complex).reshape(3,2)\n",
    "print(f\"Original Dimension was {np.array(data2).shape} But arr2 dimension is reshaped to {arr2.shape}\")\n",
    "print(arr2)\n"
   ]
  },
  {
   "cell_type": "code",
   "execution_count": 21,
   "id": "25f39446-4ceb-440b-92fe-d4b3e81870d2",
   "metadata": {},
   "outputs": [
    {
     "name": "stdout",
     "output_type": "stream",
     "text": [
      "[[0. 0.]\n",
      " [0. 0.]\n",
      " [0. 0.]\n",
      " [0. 0.]\n",
      " [0. 0.]] \n",
      "\n",
      "[[1. 1. 1. 1. 1.]\n",
      " [1. 1. 1. 1. 1.]\n",
      " [1. 1. 1. 1. 1.]] \n",
      "\n",
      "[[[1.35260925e-311 1.01283457e-321]\n",
      "  [0.00000000e+000 0.00000000e+000]\n",
      "  [6.23058028e-307 1.16097020e-028]]\n",
      "\n",
      " [[1.26104862e-076 2.04380493e-028]\n",
      "  [8.59810802e-067 1.04917183e-153]\n",
      "  [5.23081515e-143 1.04784554e+165]]\n",
      "\n",
      " [[5.55269641e+170 5.09691828e-066]\n",
      "  [1.74164439e+184 8.13520945e-144]\n",
      "  [3.59751658e+252 1.46901661e+179]]\n",
      "\n",
      " [[8.37404147e+242 4.31999013e-096]\n",
      "  [4.82337723e+228 3.73603744e-061]\n",
      "  [1.51818374e-051 5.64165036e-091]]\n",
      "\n",
      " [[7.96662932e-042 1.53645074e-051]\n",
      "  [5.04621343e+180 1.94918963e-153]\n",
      "  [1.14484251e+243 2.59903827e-144]]]\n"
     ]
    }
   ],
   "source": [
    "#Additionaly we can create arrays of 0's and 1's as well\n",
    "\n",
    "zeros = np.zeros(10).reshape(5,2) #Creates a numpy 0 array of 10 elements \n",
    "#We can also simplify this as np.zeros(5,2) and the result will be same\n",
    "\n",
    "print(zeros,'\\n')\n",
    "\n",
    "ones = np.ones(15).reshape(3,5) #Creates a 3x5 2-D Array Of 1's\n",
    "print(ones,'\\n')\n",
    "\n",
    "#To create a numpy array of uninitialized garbage values, you can use empty arrays\n",
    "\n",
    "empty = np.empty((5,3,2)) #To create Higher-dimensional arrays i.e >2 we can add an additional tuple here\n",
    "print(empty)"
   ]
  },
  {
   "cell_type": "code",
   "execution_count": 28,
   "id": "7237d360-16bc-47b1-b4c3-ed31af6ac8c0",
   "metadata": {},
   "outputs": [
    {
     "name": "stdout",
     "output_type": "stream",
     "text": [
      "[[ 0  1  2  3  4]\n",
      " [ 5  6  7  8  9]\n",
      " [10 11 12 13 14]] \n",
      "\n"
     ]
    },
    {
     "data": {
      "text/plain": [
       "array([[1., 0., 0., 0.],\n",
       "       [0., 1., 0., 0.],\n",
       "       [0., 0., 1., 0.],\n",
       "       [0., 0., 0., 1.]])"
      ]
     },
     "execution_count": 28,
     "metadata": {},
     "output_type": "execute_result"
    }
   ],
   "source": [
    "#We can also derive a specific range of numbers to be displayed in out numpy array using 'arange' function\n",
    "\n",
    "ranged = np.arange(15).reshape(3,5) #Creates an array with 15 elements numbered 0 to 14 because range is from 0 to n-1\n",
    "\n",
    "print(ranged,'\\n')\n",
    "\n",
    "np.identity((4)) #Creates an identity matrix of nxn dimension (They can be converted/reshaped to another possible product dimension. eg: 16 = 4x4 or 8x2)"
   ]
  },
  {
   "cell_type": "code",
   "execution_count": 47,
   "id": "51b21cca-59f6-47c1-8e27-26900a16b8b3",
   "metadata": {},
   "outputs": [
    {
     "name": "stdin",
     "output_type": "stream",
     "text": [
      "Enter the number of elements:  5\n",
      " 1\n",
      " 2\n",
      " 3\n",
      " 4\n",
      " 5\n"
     ]
    },
    {
     "name": "stdout",
     "output_type": "stream",
     "text": [
      "[1, 2, 3, 4, 5]\n",
      "[5 4 3 2 1]\n",
      "The dot product of the two converted list to array is:\n",
      "35\n"
     ]
    }
   ],
   "source": [
    "#Simple multiplication of 2-D arrays\n",
    "\n",
    "l1 = []\n",
    "m = int(input('Enter the number of elements: '))\n",
    "for i in range(m):\n",
    "    inp1 = int(input())\n",
    "    l1.append(inp1)\n",
    "print(l1)\n",
    "\n",
    "a = np.asarray(l1) #Converts the list into ndarray\n",
    "\n",
    "l2 = [5,4,3,2,1]\n",
    "b = np.asarray(l2)\n",
    "print(b)\n",
    "\n",
    "print(f\"The dot product of the two converted list to array is:\\n{np.dot(a,b)}\") #Performs dot product of the two matrices\n",
    "\n",
    "#Note: ones_like and zeros_like will generate a similar array of before(if ones and zeroes were used) of the same shape and size\n"
   ]
  },
  {
   "cell_type": "code",
   "execution_count": 52,
   "id": "fa606ba4-f99f-4c4f-b3ae-40ced7d31054",
   "metadata": {},
   "outputs": [
    {
     "name": "stdout",
     "output_type": "stream",
     "text": [
      "Array as an int:\n",
      "[[1 2]\n",
      " [3 4]\n",
      " [5 6]]\n",
      "Array as an float64:\n",
      "[1. 2. 3. 4. 5.]\n"
     ]
    }
   ],
   "source": [
    "#You can change the type of data of an nd array using astype\n",
    "\n",
    "a1 = np.array([1.54,2.22,3.33,4.44,5.55,6.66],dtype = int).reshape(3,2)\n",
    "print(f\"Array as an int:\\n{a1}\")\n",
    "a2 = np.array(a).astype(float)\n",
    "print(f\"Array as an float64:\\n{a2}\")"
   ]
  },
  {
   "cell_type": "markdown",
   "id": "79694782-d63f-4c0e-9e74-7db2763db792",
   "metadata": {},
   "source": [
    "2. Scalar Operations in NumPy"
   ]
  },
  {
   "cell_type": "code",
   "execution_count": 65,
   "id": "26f75e62-0b2f-401e-80f6-ec71948b5121",
   "metadata": {},
   "outputs": [
    {
     "name": "stdout",
     "output_type": "stream",
     "text": [
      "Original Array:\n",
      "[[1 2]\n",
      " [3 4]]\n",
      "Array Self Product: i.e \n",
      "arr*arr=\n",
      "[[ 1  4]\n",
      " [ 9 16]]\n",
      "arr-arr =\n",
      "[[0 0]\n",
      " [0 0]]\n"
     ]
    }
   ],
   "source": [
    "arr = np.array([1,2,3,4]).reshape(2,2)\n",
    "print(f\"Original Array:\\n{arr}\")\n",
    "print(f\"Array Self Product: i.e \\narr*arr=\\n{arr*arr}\")\n",
    "print(f\"arr-arr =\\n{arr-arr}\")"
   ]
  },
  {
   "cell_type": "markdown",
   "id": "e66b3e6d-4097-40a2-8fb3-dfb3b1722c79",
   "metadata": {},
   "source": [
    "3. Basic Indexing and Slicing"
   ]
  },
  {
   "cell_type": "code",
   "execution_count": 72,
   "id": "5bd37da6-fac7-4dc4-8d6f-7af1095e939e",
   "metadata": {},
   "outputs": [
    {
     "name": "stdout",
     "output_type": "stream",
     "text": [
      "[0 1 2 3 4]\n",
      "[4 5 6]\n",
      "Array Before updation:\n",
      "[0 1 2 3 4 5 6 7 8 9]\n",
      "Array After updation:\n",
      "[ 0  1  2  3 16 16  6  7  8  9]\n"
     ]
    }
   ],
   "source": [
    "#Slicing of 1-D Arrays\n",
    "\n",
    "arr = np.arange(10) # [1 2 3 4 5 6 7 8 9 10]\n",
    "\n",
    "print(arr[:5]) #Prints from arr[0] to arr[4]\n",
    "\n",
    "print(arr[4:7]) #Prints from arr[4] to arr[6]\n",
    "\n",
    "print(f\"Array Before updation:\\n{arr}\")\n",
    "\n",
    "#The trend noticed in slicing is that the left index is included and the right is not included\n",
    "\n",
    "arr[4:6] =16 #arr[4] and arr[5] are changed to 16\n",
    "\n",
    "print(f\"Array After updation:\\n{arr}\")\n",
    "\n",
    "#Note that arrays arent copied when sliced. Hence if you want to store a copy of the array use .copy() fucntion along with slicing"
   ]
  },
  {
   "cell_type": "code",
   "execution_count": 74,
   "id": "b4b8a0c9-7e5c-4d54-9cdc-af5173d7c0e8",
   "metadata": {},
   "outputs": [
    {
     "name": "stdout",
     "output_type": "stream",
     "text": [
      "[[1 2 3]\n",
      " [4 5 6]]\n"
     ]
    }
   ],
   "source": [
    "#Slicing of 2-D Arrays\n",
    "\n",
    "#In Higher Dimensional arrays, every index is atleast a 1-D array, Hence opening up to more possibilities\n",
    "\n",
    "arr2d = np.array([[1, 2, 3], [4, 5, 6], [7, 8, 9]]) #arr[0] is [1 2 3] arr[1] is [4 5 6] and arr[2] is [7 8 9]\n",
    "\n",
    "print(arr2d[:2]) #Prints only first 2 rows"
   ]
  },
  {
   "cell_type": "code",
   "execution_count": null,
   "id": "142ca275-48e7-44ce-ad26-ae2f5116c5b6",
   "metadata": {},
   "outputs": [],
   "source": []
  }
 ],
 "metadata": {
  "kernelspec": {
   "display_name": "Python 3 (ipykernel)",
   "language": "python",
   "name": "python3"
  },
  "language_info": {
   "codemirror_mode": {
    "name": "ipython",
    "version": 3
   },
   "file_extension": ".py",
   "mimetype": "text/x-python",
   "name": "python",
   "nbconvert_exporter": "python",
   "pygments_lexer": "ipython3",
   "version": "3.11.0"
  }
 },
 "nbformat": 4,
 "nbformat_minor": 5
}
